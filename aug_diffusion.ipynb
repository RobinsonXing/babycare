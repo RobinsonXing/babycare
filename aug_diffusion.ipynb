{
 "cells": [
  {
   "cell_type": "code",
   "execution_count": null,
   "id": "8713a73d",
   "metadata": {},
   "outputs": [],
   "source": [
    "import os\n",
    "import logging\n",
    "from datetime import datetime\n",
    "\n",
    "import torch\n",
    "from torch.utils.data import DataLoader\n",
    "\n",
    "from utils.dataset import BabyMotionDataset\n",
    "from models.diffusion import DiffusionModel, GaussianDiffusion"
   ]
  },
  {
   "cell_type": "markdown",
   "id": "82345918",
   "metadata": {},
   "source": [
    "# Train"
   ]
  },
  {
   "cell_type": "code",
   "execution_count": null,
   "id": "9abb8bd2",
   "metadata": {},
   "outputs": [],
   "source": [
    "# Params\n",
    "\n",
    "num_epochs = 1000\n",
    "batch_size=64\n",
    "lr=2e-4\n",
    "\n",
    "seq_len = 100\n",
    "save_interval = 10\n",
    "\n",
    "origin_dir = \"./data_origin\""
   ]
  },
  {
   "cell_type": "code",
   "execution_count": null,
   "id": "6de0d023",
   "metadata": {},
   "outputs": [],
   "source": [
    "device = torch.device(\"cuda\" if torch.cuda.is_available() else \"cpu\")\n",
    "\n",
    "label2idx = {\n",
    "    'crawl': 0, 'walk': 1,\n",
    "    'sit-floor': 2, 'sit-high-chair': 3, 'sit-low-chair': 4, 'stand': 5, \n",
    "    'hold-horizontal': 6, 'hold-vertical': 7, 'piggyback': 8, \n",
    "    'baby-food': 9, 'bottle': 10, 'breast': 11, \n",
    "    'face-down': 12, 'face-side': 13, 'face-up':14, 'roll-over': 15\n",
    "}\n",
    "\n",
    "# logger\n",
    "now = datetime.now().strftime(\"%Y%m%d_%H%M%S\")\n",
    "log_root = f\"./logs/aug_Diffusion/{now}\"\n",
    "checkpoints_dir = os.path.join(log_root, \"checkpoints\")\n",
    "os.makedirs(log_root, exist_ok=True)\n",
    "os.makedirs(checkpoints_dir, exist_ok=True)\n",
    "logging.basicConfig(\n",
    "    filename=os.path.join(log_root, \"train.log\"),\n",
    "    level=logging.INFO,\n",
    "    format=\"%(asctime)s - %(levelname)s - %(message)s\"\n",
    ")"
   ]
  },
  {
   "cell_type": "code",
   "execution_count": null,
   "id": "17e71454",
   "metadata": {},
   "outputs": [],
   "source": [
    "class IndexedMotionDataset(torch.utils.data.Dataset):\n",
    "    def __init__(self, base_dataset, action2idx):\n",
    "        self.base_dataset = base_dataset\n",
    "        self.action2idx = action2idx\n",
    "\n",
    "    def __len__(self):\n",
    "        return len(self.base_dataset)\n",
    "\n",
    "    def __getitem__(self, idx):\n",
    "        sequence, action, _ = self.base_dataset[idx]\n",
    "        class_idx = self.action2idx[action]\n",
    "        return sequence, class_idx\n",
    "    \n",
    "# dataset & Dataloader\n",
    "origin_dataset = BabyMotionDataset(\n",
    "    origin_dir=origin_dir,\n",
    "    max_len=seq_len,\n",
    "    min_len=10,\n",
    "    is_train=True\n",
    ")\n",
    "dataset = IndexedMotionDataset(origin_dataset, label2idx)\n",
    "dataloader = DataLoader(dataset, batch_size=batch_size, shuffle=True)"
   ]
  },
  {
   "cell_type": "code",
   "execution_count": null,
   "id": "d256aa75",
   "metadata": {},
   "outputs": [],
   "source": [
    "# Models\n",
    "model = DiffusionModel(input_dim=3, hidden_dim=128, num_classes=len(label2idx), n_layers=2).to(device)\n",
    "diff = GaussianDiffusion(model, timesteps=100)\n",
    "\n",
    "# optimizers\n",
    "optimizer = torch.optim.Adam(model.parameters(), lr=lr)"
   ]
  },
  {
   "cell_type": "code",
   "execution_count": null,
   "id": "d2cec136",
   "metadata": {},
   "outputs": [],
   "source": [
    "for epoch in range(1, num_epochs + 1):\n",
    "    model.train()\n",
    "    total_loss = 0\n",
    "\n",
    "    for real_seq, class_idx in tqdm(dataloader, desc=f\"Epoch {epoch}/{num_epochs}\"):\n",
    "        real_seq = real_seq.to(device)  # shape: [B, T, 3]\n",
    "        class_idx = class_idx.to(device)  # shape: [B]\n",
    "\n",
    "        loss = diff.p_losses(model, real_seq, class_idx)\n",
    "        optimizer.zero_grad()\n",
    "        loss.backward()\n",
    "        optimizer.step()\n",
    "        total_loss += loss.item()\n",
    "    \n",
    "    avg_loss = total_loss / len(dataloader)\n",
    "\n",
    "    log_msg = f\"[Epoch {epoch+1}/{num_epochs}] Loss: {avg_loss.item():.9f}\"\n",
    "    print(log_msg)\n",
    "    logging.info(log_msg)\n",
    "\n",
    "    if (epoch + 1) % 10 == 0:\n",
    "        epoch_dir = os.path.join(checkpoints_dir, f\"epoch{epoch+1}\")\n",
    "        os.makedirs(epoch_dir, exist_ok=True)\n",
    "        torch.save(diff.state_dict(), os.path.join(epoch_dir, f\"generator_epoch{epoch+1}.pt\"))\n"
   ]
  },
  {
   "cell_type": "markdown",
   "id": "c0843481",
   "metadata": {},
   "source": [
    "# Gen"
   ]
  }
 ],
 "metadata": {
  "language_info": {
   "name": "python"
  }
 },
 "nbformat": 4,
 "nbformat_minor": 5
}
