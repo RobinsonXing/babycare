{
 "cells": [
  {
   "cell_type": "code",
   "execution_count": 1,
   "id": "0e1f7aab",
   "metadata": {},
   "outputs": [],
   "source": [
    "import os\n",
    "import pandas as pd\n",
    "import numpy as np\n",
    "import random\n",
    "from tqdm import tqdm"
   ]
  },
  {
   "cell_type": "code",
   "execution_count": 2,
   "id": "d910e2b3",
   "metadata": {},
   "outputs": [],
   "source": [
    "target_per_class=20\n",
    "duration_range=(3, 10)\n",
    "frame_interval=0.15\n",
    "std=0.05\n",
    "is_trainset_only=True\n",
    "\n",
    "label2idx = {\n",
    "    'crawl': 0, 'walk': 1,\n",
    "    'sit-floor': 2, 'sit-high-chair': 3, 'sit-low-chair': 4, 'stand': 5, \n",
    "    'hold-horizontal': 6, 'hold-vertical': 7, 'piggyback': 8, \n",
    "    'baby-food': 9, 'bottle': 10, 'breast': 11, \n",
    "    'face-down': 12, 'face-side': 13, 'face-up':14, 'roll-over': 15\n",
    "}\n",
    "\n",
    "\n",
    "origin_dir = './data_origin/'\n",
    "aug_dir = './data_aug/'\n",
    "aug_method = 'GN'\n",
    "\n",
    "sampling_interval = 0.15  # s/frame\n",
    "tolerance = 0.15\n",
    "\n",
    "def find_pair_dirs(base_dir: str, aug_method: str=None):\n",
    "    sequence_dir = os.path.join(base_dir, aug_method, \"sequence\") if aug_method else os.path.join(base_dir, \"sequence\")\n",
    "    label_dir = os.path.join(aug_dir, aug_method, \"label\") if aug_method else os.path.join(origin_dir, \"label\")\n",
    "    os.makedirs(sequence_dir, exist_ok=True)\n",
    "    os.makedirs(label_dir, exist_ok=True)\n",
    "    return sequence_dir, label_dir\n",
    "\n",
    "origin_sequence_dir, origin_label_dir = find_pair_dirs(origin_dir)\n",
    "aug_sequence_dir, aug_label_dir = find_pair_dirs(aug_dir, aug_method)"
   ]
  },
  {
   "cell_type": "code",
   "execution_count": 3,
   "id": "560d6aef",
   "metadata": {},
   "outputs": [],
   "source": [
    "action_to_samples = {action: [] for action in label2idx}\n",
    "\n",
    "# 如果启用，仅保留在 train.txt 中的样本编号\n",
    "valid_ids = set()\n",
    "if is_trainset_only:\n",
    "    train_txt_path = os.path.join(origin_dir, 'train.txt')\n",
    "    with open(train_txt_path, 'r') as f:\n",
    "        valid_ids = set(line.strip() for line in f)\n",
    "\n",
    "for label_file in os.listdir(origin_label_dir):\n",
    "    if not label_file.endswith('_label.csv'):\n",
    "        continue\n",
    "\n",
    "    seq_id = label_file.replace('_label.csv', '')\n",
    "    if is_trainset_only and seq_id not in valid_ids:\n",
    "        continue\n",
    "\n",
    "    label_path = os.path.join(origin_label_dir, label_file)\n",
    "    seq_path = os.path.join(origin_sequence_dir, f\"{seq_id}.csv\")\n",
    "\n",
    "    if not os.path.exists(seq_path):\n",
    "        continue\n",
    "\n",
    "    label_df = pd.read_csv(label_path)\n",
    "    action = label_df.iloc[0]['action']\n",
    "    if action in action_to_samples:\n",
    "        action_to_samples[action].append((seq_path, label_path))\n"
   ]
  },
  {
   "cell_type": "code",
   "execution_count": 4,
   "id": "65bdf5de",
   "metadata": {},
   "outputs": [
    {
     "name": "stderr",
     "output_type": "stream",
     "text": [
      "  0%|          | 0/16 [00:00<?, ?it/s]"
     ]
    },
    {
     "name": "stderr",
     "output_type": "stream",
     "text": [
      "100%|██████████| 16/16 [00:02<00:00,  6.04it/s]"
     ]
    },
    {
     "name": "stdout",
     "output_type": "stream",
     "text": [
      "Done: 300 augmented samples saved.\n"
     ]
    },
    {
     "name": "stderr",
     "output_type": "stream",
     "text": [
      "\n"
     ]
    }
   ],
   "source": [
    "sample_id = 0\n",
    "for action, samples in tqdm(action_to_samples.items()):\n",
    "    total_needed = target_per_class\n",
    "    num_available = len(samples)\n",
    "    if num_available == 0:\n",
    "        continue\n",
    "\n",
    "    while total_needed > 0:\n",
    "        batch = samples if total_needed >= num_available else random.sample(samples, total_needed)\n",
    "        for seq_path, label_path in batch:\n",
    "            df = pd.read_csv(seq_path)\n",
    "\n",
    "            # 随机裁剪一段长度\n",
    "            min_len = int(duration_range[0] / frame_interval)\n",
    "            max_len = int(duration_range[1] / frame_interval)\n",
    "            crop_len = random.randint(min_len, max_len)\n",
    "            if len(df) <= crop_len:\n",
    "                cropped = df.copy()\n",
    "            else:\n",
    "                start_idx = random.randint(0, len(df) - crop_len)\n",
    "                cropped = df.iloc[start_idx:start_idx + crop_len].copy()\n",
    "\n",
    "            # 添加高斯噪声\n",
    "            for col in ['accel_x', 'accel_y', 'accel_z']:\n",
    "                cropped[col] += np.random.normal(0, std, size=len(cropped))\n",
    "\n",
    "            # 保留 9 位小数\n",
    "            cropped = cropped.round(9)\n",
    "\n",
    "            # 保存增强后的数据\n",
    "            file_id = f\"A{sample_id:05d}\"\n",
    "            cropped.to_csv(os.path.join(aug_sequence_dir, f\"{file_id}.csv\"), index=False)\n",
    "\n",
    "            # 保存 label 的指定字段\n",
    "            label_df = pd.read_csv(label_path)\n",
    "            label_df = label_df[['gender', 'age', 'dur', 'action']]\n",
    "            label_df.to_csv(os.path.join(aug_label_dir, f\"{file_id}_label.csv\"), index=False)\n",
    "\n",
    "            sample_id += 1\n",
    "            total_needed -= 1\n",
    "\n",
    "print(f\"Done: {sample_id} augmented samples saved.\")"
   ]
  }
 ],
 "metadata": {
  "kernelspec": {
   "display_name": "llm",
   "language": "python",
   "name": "python3"
  },
  "language_info": {
   "codemirror_mode": {
    "name": "ipython",
    "version": 3
   },
   "file_extension": ".py",
   "mimetype": "text/x-python",
   "name": "python",
   "nbconvert_exporter": "python",
   "pygments_lexer": "ipython3",
   "version": "3.10.16"
  }
 },
 "nbformat": 4,
 "nbformat_minor": 5
}
