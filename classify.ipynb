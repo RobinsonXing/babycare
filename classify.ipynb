{
 "cells": [
  {
   "cell_type": "markdown",
   "id": "15ef5213",
   "metadata": {},
   "source": [
    "# LSTM"
   ]
  },
  {
   "cell_type": "code",
   "execution_count": 1,
   "id": "5c8c8df6",
   "metadata": {},
   "outputs": [],
   "source": [
    "import os\n",
    "import logging\n",
    "from datetime import datetime\n",
    "\n",
    "import torch\n",
    "from torch.utils.data import DataLoader\n",
    "from sklearn.metrics import accuracy_score\n",
    "\n",
    "from utils.dataset import BabyMotionDataset\n",
    "from models.lstm import LSTMClassifier\n",
    "from utils.utils_func import collate_fn"
   ]
  },
  {
   "cell_type": "code",
   "execution_count": 2,
   "id": "7072214f",
   "metadata": {},
   "outputs": [],
   "source": [
    "# params\n",
    "num_epoch = 10000\n",
    "lr = 1e-3\n",
    "\n",
    "use_aug = True\n",
    "aug_method = 'StatisticGen' \n",
    "val_method = 'lstm'"
   ]
  },
  {
   "cell_type": "code",
   "execution_count": 3,
   "id": "d8f7378d",
   "metadata": {},
   "outputs": [],
   "source": [
    "origin_dir = \"./data_origin\"\n",
    "aug_dir = os.path.join(\"./data_aug\", aug_method) if use_aug else None\n",
    "\n",
    "device = torch.device(\"cuda\" if torch.cuda.is_available() else \"cpu\")\n",
    "\n",
    "label2idx = {\n",
    "    'crawl': 0, 'walk': 1,\n",
    "    'sit-floor': 2, 'sit-high-chair': 3, 'sit-low-chair': 4, 'stand': 5, \n",
    "    'hold-horizontal': 6, 'hold-vertical': 7, 'piggyback': 8, \n",
    "    'baby-food': 9, 'bottle': 10, 'breast': 11, \n",
    "    'face-down': 12, 'face-side': 13, 'face-up':14, 'roll-over': 15\n",
    "}\n",
    "\n",
    "# logger\n",
    "now = datetime.now().strftime(\"%Y%m%d_%H%M%S\")\n",
    "aug_dir_name = aug_method if use_aug else \"origin\"\n",
    "log_root = f\"./logs/{val_method}/{aug_dir_name}/{now}\"\n",
    "checkpoints_root = os.path.join(log_root, \"checkpoints\")\n",
    "os.makedirs(log_root, exist_ok=True)\n",
    "os.makedirs(checkpoints_root, exist_ok=True)\n",
    "logging.basicConfig(\n",
    "    filename=os.path.join(log_root, \"train.log\"),\n",
    "    level=logging.INFO,\n",
    "    format=\"%(asctime)s - %(levelname)s - %(message)s\"\n",
    ")"
   ]
  },
  {
   "cell_type": "code",
   "execution_count": 4,
   "id": "370becc0",
   "metadata": {},
   "outputs": [],
   "source": [
    "train_dataset = BabyMotionDataset(\n",
    "    origin_dir=origin_dir,\n",
    "    aug_dirs=[aug_dir],\n",
    "    max_len=100,\n",
    "    min_len=10,\n",
    "    is_train=True\n",
    ")\n",
    "val_dataset = BabyMotionDataset(\n",
    "    origin_dir=origin_dir,\n",
    "    aug_dirs=[aug_dir],\n",
    "    max_len=100,\n",
    "    min_len=10,\n",
    "    is_train=False\n",
    ")\n",
    "\n",
    "# DataLoader\n",
    "train_loader = DataLoader(\n",
    "    train_dataset,\n",
    "    batch_size=32,\n",
    "    shuffle=True,\n",
    "    collate_fn=lambda b: collate_fn(b, label2idx)\n",
    ")\n",
    "\n",
    "val_loader = DataLoader(\n",
    "    val_dataset,\n",
    "    batch_size=32,\n",
    "    shuffle=False,\n",
    "    collate_fn=lambda b: collate_fn(b, label2idx)\n",
    ")"
   ]
  },
  {
   "cell_type": "code",
   "execution_count": 5,
   "id": "05de8a72",
   "metadata": {},
   "outputs": [],
   "source": [
    "# 验证函数\n",
    "def evaluate(model, dataloader):\n",
    "    model.eval()\n",
    "    all_preds, all_labels = [], []\n",
    "    with torch.no_grad():\n",
    "        for x, lengths, y in dataloader:\n",
    "            x, y = x.to(device), y.to(device)\n",
    "            out = model(x, lengths)\n",
    "            preds = out.argmax(dim=1)\n",
    "            all_preds.extend(preds.cpu().tolist())\n",
    "            all_labels.extend(y.cpu().tolist())\n",
    "    acc = accuracy_score(all_labels, all_preds)\n",
    "    return acc"
   ]
  },
  {
   "cell_type": "code",
   "execution_count": 6,
   "id": "efebe153",
   "metadata": {},
   "outputs": [
    {
     "ename": "KeyboardInterrupt",
     "evalue": "",
     "output_type": "error",
     "traceback": [
      "\u001b[0;31m---------------------------------------------------------------------------\u001b[0m",
      "\u001b[0;31mKeyboardInterrupt\u001b[0m                         Traceback (most recent call last)",
      "Cell \u001b[0;32mIn[6], line 14\u001b[0m\n\u001b[1;32m     11\u001b[0m x, lengths, y \u001b[38;5;241m=\u001b[39m batch\n\u001b[1;32m     12\u001b[0m x, y \u001b[38;5;241m=\u001b[39m x\u001b[38;5;241m.\u001b[39mto(device), y\u001b[38;5;241m.\u001b[39mto(device)\n\u001b[0;32m---> 14\u001b[0m output \u001b[38;5;241m=\u001b[39m \u001b[43mmodel\u001b[49m\u001b[43m(\u001b[49m\u001b[43mx\u001b[49m\u001b[43m,\u001b[49m\u001b[43m \u001b[49m\u001b[43mlengths\u001b[49m\u001b[43m)\u001b[49m\n\u001b[1;32m     15\u001b[0m loss \u001b[38;5;241m=\u001b[39m criterion(output, y)\n\u001b[1;32m     17\u001b[0m optimizer\u001b[38;5;241m.\u001b[39mzero_grad()\n",
      "File \u001b[0;32m/fast/workspace/robinson/miniconda3/envs/llm/lib/python3.10/site-packages/torch/nn/modules/module.py:1751\u001b[0m, in \u001b[0;36mModule._wrapped_call_impl\u001b[0;34m(self, *args, **kwargs)\u001b[0m\n\u001b[1;32m   1749\u001b[0m     \u001b[38;5;28;01mreturn\u001b[39;00m \u001b[38;5;28mself\u001b[39m\u001b[38;5;241m.\u001b[39m_compiled_call_impl(\u001b[38;5;241m*\u001b[39margs, \u001b[38;5;241m*\u001b[39m\u001b[38;5;241m*\u001b[39mkwargs)  \u001b[38;5;66;03m# type: ignore[misc]\u001b[39;00m\n\u001b[1;32m   1750\u001b[0m \u001b[38;5;28;01melse\u001b[39;00m:\n\u001b[0;32m-> 1751\u001b[0m     \u001b[38;5;28;01mreturn\u001b[39;00m \u001b[38;5;28;43mself\u001b[39;49m\u001b[38;5;241;43m.\u001b[39;49m\u001b[43m_call_impl\u001b[49m\u001b[43m(\u001b[49m\u001b[38;5;241;43m*\u001b[39;49m\u001b[43margs\u001b[49m\u001b[43m,\u001b[49m\u001b[43m \u001b[49m\u001b[38;5;241;43m*\u001b[39;49m\u001b[38;5;241;43m*\u001b[39;49m\u001b[43mkwargs\u001b[49m\u001b[43m)\u001b[49m\n",
      "File \u001b[0;32m/fast/workspace/robinson/miniconda3/envs/llm/lib/python3.10/site-packages/torch/nn/modules/module.py:1762\u001b[0m, in \u001b[0;36mModule._call_impl\u001b[0;34m(self, *args, **kwargs)\u001b[0m\n\u001b[1;32m   1757\u001b[0m \u001b[38;5;66;03m# If we don't have any hooks, we want to skip the rest of the logic in\u001b[39;00m\n\u001b[1;32m   1758\u001b[0m \u001b[38;5;66;03m# this function, and just call forward.\u001b[39;00m\n\u001b[1;32m   1759\u001b[0m \u001b[38;5;28;01mif\u001b[39;00m \u001b[38;5;129;01mnot\u001b[39;00m (\u001b[38;5;28mself\u001b[39m\u001b[38;5;241m.\u001b[39m_backward_hooks \u001b[38;5;129;01mor\u001b[39;00m \u001b[38;5;28mself\u001b[39m\u001b[38;5;241m.\u001b[39m_backward_pre_hooks \u001b[38;5;129;01mor\u001b[39;00m \u001b[38;5;28mself\u001b[39m\u001b[38;5;241m.\u001b[39m_forward_hooks \u001b[38;5;129;01mor\u001b[39;00m \u001b[38;5;28mself\u001b[39m\u001b[38;5;241m.\u001b[39m_forward_pre_hooks\n\u001b[1;32m   1760\u001b[0m         \u001b[38;5;129;01mor\u001b[39;00m _global_backward_pre_hooks \u001b[38;5;129;01mor\u001b[39;00m _global_backward_hooks\n\u001b[1;32m   1761\u001b[0m         \u001b[38;5;129;01mor\u001b[39;00m _global_forward_hooks \u001b[38;5;129;01mor\u001b[39;00m _global_forward_pre_hooks):\n\u001b[0;32m-> 1762\u001b[0m     \u001b[38;5;28;01mreturn\u001b[39;00m \u001b[43mforward_call\u001b[49m\u001b[43m(\u001b[49m\u001b[38;5;241;43m*\u001b[39;49m\u001b[43margs\u001b[49m\u001b[43m,\u001b[49m\u001b[43m \u001b[49m\u001b[38;5;241;43m*\u001b[39;49m\u001b[38;5;241;43m*\u001b[39;49m\u001b[43mkwargs\u001b[49m\u001b[43m)\u001b[49m\n\u001b[1;32m   1764\u001b[0m result \u001b[38;5;241m=\u001b[39m \u001b[38;5;28;01mNone\u001b[39;00m\n\u001b[1;32m   1765\u001b[0m called_always_called_hooks \u001b[38;5;241m=\u001b[39m \u001b[38;5;28mset\u001b[39m()\n",
      "File \u001b[0;32m/fast/workspace/robinson/CodeSource/babycare/models/lstm.py:31\u001b[0m, in \u001b[0;36mLSTMClassifier.forward\u001b[0;34m(self, x, lengths)\u001b[0m\n\u001b[1;32m     30\u001b[0m \u001b[38;5;28;01mdef\u001b[39;00m\u001b[38;5;250m \u001b[39m\u001b[38;5;21mforward\u001b[39m(\u001b[38;5;28mself\u001b[39m, x, lengths):\n\u001b[0;32m---> 31\u001b[0m     packed \u001b[38;5;241m=\u001b[39m \u001b[43mnn\u001b[49m\u001b[38;5;241;43m.\u001b[39;49m\u001b[43mutils\u001b[49m\u001b[38;5;241;43m.\u001b[39;49m\u001b[43mrnn\u001b[49m\u001b[38;5;241;43m.\u001b[39;49m\u001b[43mpack_padded_sequence\u001b[49m\u001b[43m(\u001b[49m\u001b[43mx\u001b[49m\u001b[43m,\u001b[49m\u001b[43m \u001b[49m\u001b[43mlengths\u001b[49m\u001b[43m,\u001b[49m\u001b[43m \u001b[49m\u001b[43mbatch_first\u001b[49m\u001b[38;5;241;43m=\u001b[39;49m\u001b[38;5;28;43;01mTrue\u001b[39;49;00m\u001b[43m,\u001b[49m\u001b[43m \u001b[49m\u001b[43menforce_sorted\u001b[49m\u001b[38;5;241;43m=\u001b[39;49m\u001b[38;5;28;43;01mFalse\u001b[39;49;00m\u001b[43m)\u001b[49m\n\u001b[1;32m     32\u001b[0m     _, (hn, _) \u001b[38;5;241m=\u001b[39m \u001b[38;5;28mself\u001b[39m\u001b[38;5;241m.\u001b[39mlstm(packed)\n\u001b[1;32m     33\u001b[0m     final_hidden \u001b[38;5;241m=\u001b[39m torch\u001b[38;5;241m.\u001b[39mcat([hn[\u001b[38;5;241m-\u001b[39m\u001b[38;5;241m2\u001b[39m], hn[\u001b[38;5;241m-\u001b[39m\u001b[38;5;241m1\u001b[39m]], dim\u001b[38;5;241m=\u001b[39m\u001b[38;5;241m1\u001b[39m)\n",
      "File \u001b[0;32m/fast/workspace/robinson/miniconda3/envs/llm/lib/python3.10/site-packages/torch/nn/utils/rnn.py:336\u001b[0m, in \u001b[0;36mpack_padded_sequence\u001b[0;34m(input, lengths, batch_first, enforce_sorted)\u001b[0m\n\u001b[1;32m    333\u001b[0m     \u001b[38;5;28minput\u001b[39m \u001b[38;5;241m=\u001b[39m \u001b[38;5;28minput\u001b[39m\u001b[38;5;241m.\u001b[39mindex_select(batch_dim, sorted_indices)\n\u001b[1;32m    335\u001b[0m data, batch_sizes \u001b[38;5;241m=\u001b[39m _VF\u001b[38;5;241m.\u001b[39m_pack_padded_sequence(\u001b[38;5;28minput\u001b[39m, lengths, batch_first)\n\u001b[0;32m--> 336\u001b[0m \u001b[38;5;28;01mreturn\u001b[39;00m \u001b[43m_packed_sequence_init\u001b[49m\u001b[43m(\u001b[49m\u001b[43mdata\u001b[49m\u001b[43m,\u001b[49m\u001b[43m \u001b[49m\u001b[43mbatch_sizes\u001b[49m\u001b[43m,\u001b[49m\u001b[43m \u001b[49m\u001b[43msorted_indices\u001b[49m\u001b[43m,\u001b[49m\u001b[43m \u001b[49m\u001b[38;5;28;43;01mNone\u001b[39;49;00m\u001b[43m)\u001b[49m\n",
      "File \u001b[0;32m/fast/workspace/robinson/miniconda3/envs/llm/lib/python3.10/site-packages/torch/nn/utils/rnn.py:254\u001b[0m, in \u001b[0;36m_packed_sequence_init\u001b[0;34m(data, batch_sizes, sorted_indices, unsorted_indices)\u001b[0m\n\u001b[1;32m    248\u001b[0m \u001b[38;5;28;01mdef\u001b[39;00m\u001b[38;5;250m \u001b[39m\u001b[38;5;21m_packed_sequence_init\u001b[39m(\n\u001b[1;32m    249\u001b[0m     data: Tensor,\n\u001b[1;32m    250\u001b[0m     batch_sizes: Optional[Tensor] \u001b[38;5;241m=\u001b[39m \u001b[38;5;28;01mNone\u001b[39;00m,\n\u001b[1;32m    251\u001b[0m     sorted_indices: Optional[Tensor] \u001b[38;5;241m=\u001b[39m \u001b[38;5;28;01mNone\u001b[39;00m,\n\u001b[1;32m    252\u001b[0m     unsorted_indices: Optional[Tensor] \u001b[38;5;241m=\u001b[39m \u001b[38;5;28;01mNone\u001b[39;00m,\n\u001b[1;32m    253\u001b[0m ) \u001b[38;5;241m-\u001b[39m\u001b[38;5;241m>\u001b[39m PackedSequence:\n\u001b[0;32m--> 254\u001b[0m     data, batch_sizes, sorted_indices, unsorted_indices \u001b[38;5;241m=\u001b[39m \u001b[43m_packed_sequence_init_args\u001b[49m\u001b[43m(\u001b[49m\n\u001b[1;32m    255\u001b[0m \u001b[43m        \u001b[49m\u001b[43mdata\u001b[49m\u001b[43m,\u001b[49m\u001b[43m \u001b[49m\u001b[43mbatch_sizes\u001b[49m\u001b[43m,\u001b[49m\u001b[43m \u001b[49m\u001b[43msorted_indices\u001b[49m\u001b[43m,\u001b[49m\u001b[43m \u001b[49m\u001b[43munsorted_indices\u001b[49m\n\u001b[1;32m    256\u001b[0m \u001b[43m    \u001b[49m\u001b[43m)\u001b[49m\n\u001b[1;32m    257\u001b[0m     \u001b[38;5;28;01mreturn\u001b[39;00m PackedSequence(data, batch_sizes, sorted_indices, unsorted_indices)\n",
      "File \u001b[0;32m/fast/workspace/robinson/miniconda3/envs/llm/lib/python3.10/site-packages/torch/nn/utils/rnn.py:227\u001b[0m, in \u001b[0;36m_packed_sequence_init_args\u001b[0;34m(data, batch_sizes, sorted_indices, unsorted_indices)\u001b[0m\n\u001b[1;32m    216\u001b[0m \u001b[38;5;28;01mdef\u001b[39;00m\u001b[38;5;250m \u001b[39m\u001b[38;5;21m_packed_sequence_init_args\u001b[39m(\n\u001b[1;32m    217\u001b[0m     data: Tensor,\n\u001b[1;32m    218\u001b[0m     batch_sizes: Optional[Tensor] \u001b[38;5;241m=\u001b[39m \u001b[38;5;28;01mNone\u001b[39;00m,\n\u001b[0;32m   (...)\u001b[0m\n\u001b[1;32m    223\u001b[0m     \u001b[38;5;66;03m# to sorted_indices. Don't assert it here because the PackedSequence ctor\u001b[39;00m\n\u001b[1;32m    224\u001b[0m     \u001b[38;5;66;03m# should only be used internally.\u001b[39;00m\n\u001b[1;32m    226\u001b[0m     \u001b[38;5;28;01mif\u001b[39;00m unsorted_indices \u001b[38;5;129;01mis\u001b[39;00m \u001b[38;5;28;01mNone\u001b[39;00m:\n\u001b[0;32m--> 227\u001b[0m         unsorted_indices \u001b[38;5;241m=\u001b[39m \u001b[43minvert_permutation\u001b[49m\u001b[43m(\u001b[49m\u001b[43msorted_indices\u001b[49m\u001b[43m)\u001b[49m\n\u001b[1;32m    229\u001b[0m     \u001b[38;5;66;03m# support being called as `PackedSequence(data, batch_sizes, sorted_indices)`\u001b[39;00m\n\u001b[1;32m    230\u001b[0m     \u001b[38;5;28;01mif\u001b[39;00m batch_sizes \u001b[38;5;129;01mis\u001b[39;00m \u001b[38;5;129;01mnot\u001b[39;00m \u001b[38;5;28;01mNone\u001b[39;00m:\n\u001b[1;32m    231\u001b[0m         \u001b[38;5;66;03m# TODO: Re-enable this check (.type isn't supported in TorchScript)\u001b[39;00m\n",
      "File \u001b[0;32m/fast/workspace/robinson/miniconda3/envs/llm/lib/python3.10/site-packages/torch/nn/utils/rnn.py:265\u001b[0m, in \u001b[0;36minvert_permutation\u001b[0;34m(permutation)\u001b[0m\n\u001b[1;32m    262\u001b[0m     \u001b[38;5;28;01mreturn\u001b[39;00m \u001b[38;5;28;01mNone\u001b[39;00m\n\u001b[1;32m    263\u001b[0m output \u001b[38;5;241m=\u001b[39m torch\u001b[38;5;241m.\u001b[39mempty_like(permutation, memory_format\u001b[38;5;241m=\u001b[39mtorch\u001b[38;5;241m.\u001b[39mlegacy_contiguous_format)\n\u001b[1;32m    264\u001b[0m output\u001b[38;5;241m.\u001b[39mscatter_(\n\u001b[0;32m--> 265\u001b[0m     \u001b[38;5;241m0\u001b[39m, permutation, \u001b[43mtorch\u001b[49m\u001b[38;5;241;43m.\u001b[39;49m\u001b[43marange\u001b[49m\u001b[43m(\u001b[49m\u001b[38;5;241;43m0\u001b[39;49m\u001b[43m,\u001b[49m\u001b[43m \u001b[49m\u001b[43mpermutation\u001b[49m\u001b[38;5;241;43m.\u001b[39;49m\u001b[43mnumel\u001b[49m\u001b[43m(\u001b[49m\u001b[43m)\u001b[49m\u001b[43m,\u001b[49m\u001b[43m \u001b[49m\u001b[43mdevice\u001b[49m\u001b[38;5;241;43m=\u001b[39;49m\u001b[43mpermutation\u001b[49m\u001b[38;5;241;43m.\u001b[39;49m\u001b[43mdevice\u001b[49m\u001b[43m)\u001b[49m\n\u001b[1;32m    266\u001b[0m )\n\u001b[1;32m    267\u001b[0m \u001b[38;5;28;01mreturn\u001b[39;00m output\n",
      "\u001b[0;31mKeyboardInterrupt\u001b[0m: "
     ]
    }
   ],
   "source": [
    "model = LSTMClassifier(input_dim=3, hidden_dim=64, num_classes=len(label2idx)).to(device)\n",
    "optimizer = torch.optim.Adam(model.parameters(), lr=lr)\n",
    "criterion = torch.nn.CrossEntropyLoss()\n",
    "\n",
    "best_val_acc = 0.0\n",
    "for epoch in range(num_epoch):\n",
    "    model.train()\n",
    "    all_preds, all_labels = [], []\n",
    "\n",
    "    for batch in train_loader:\n",
    "        x, lengths, y = batch\n",
    "        x, y = x.to(device), y.to(device)\n",
    "\n",
    "        output = model(x, lengths)\n",
    "        loss = criterion(output, y)\n",
    "\n",
    "        optimizer.zero_grad()\n",
    "        loss.backward()\n",
    "        optimizer.step()\n",
    "\n",
    "        preds = output.argmax(dim=1).cpu().numpy()\n",
    "        all_preds.extend(preds)\n",
    "        all_labels.extend(y.cpu().numpy())\n",
    "\n",
    "    train_acc = accuracy_score(all_labels, all_preds)\n",
    "    val_acc = evaluate(model, val_loader)\n",
    "\n",
    "    log_msg = f\"[Epoch {epoch}] Loss: {loss.item():.9f} | Train Acc: {train_acc:.9f} | Val Acc: {val_acc:.9f}\"\n",
    "    print(log_msg)\n",
    "    logging.info(log_msg)\n",
    "\n",
    "    # save model at best val acc.\n",
    "    if val_acc > best_val_acc:\n",
    "        best_val_acc = val_acc\n",
    "        torch.save(model.state_dict(), os.path.join(checkpoints_root, f\"best_model_epoch{epoch}.pt\"))\n",
    "        logging.info(f\"[Epoch {epoch}] Saved new best model with Val Acc: {val_acc:.9f}\")"
   ]
  }
 ],
 "metadata": {
  "kernelspec": {
   "display_name": "llm",
   "language": "python",
   "name": "python3"
  },
  "language_info": {
   "codemirror_mode": {
    "name": "ipython",
    "version": 3
   },
   "file_extension": ".py",
   "mimetype": "text/x-python",
   "name": "python",
   "nbconvert_exporter": "python",
   "pygments_lexer": "ipython3",
   "version": "3.10.16"
  }
 },
 "nbformat": 4,
 "nbformat_minor": 5
}
