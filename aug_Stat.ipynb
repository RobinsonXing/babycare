{
 "cells": [
  {
   "cell_type": "code",
   "execution_count": 12,
   "id": "21fb591d",
   "metadata": {},
   "outputs": [],
   "source": [
    "import numpy as np\n",
    "import pandas as pd\n",
    "import os, random\n",
    "from tqdm import tqdm"
   ]
  },
  {
   "cell_type": "code",
   "execution_count": 13,
   "id": "1e12ee4e",
   "metadata": {},
   "outputs": [],
   "source": [
    "target_per_class=20\n",
    "duration_range=(3, 10)\n",
    "frame_interval=0.15\n",
    "is_trainset_only=True\n",
    "\n",
    "label2idx = {\n",
    "    'crawl': 0, 'walk': 1,\n",
    "    'sit-floor': 2, 'sit-high-chair': 3, 'sit-low-chair': 4, 'stand': 5, \n",
    "    'hold-horizontal': 6, 'hold-vertical': 7, 'piggyback': 8, \n",
    "    'baby-food': 9, 'bottle': 10, 'breast': 11, \n",
    "    'face-down': 12, 'face-side': 13, 'face-up':14, 'roll-over': 15\n",
    "}\n",
    "\n",
    "\n",
    "origin_dir = './data_origin/'\n",
    "aug_dir = './data_aug/'\n",
    "aug_method = 'GS'\n",
    "\n",
    "sampling_interval = 0.15  # s/frame\n",
    "tolerance = 0.15\n",
    "\n",
    "def find_pair_dirs(base_dir: str, aug_method: str=None):\n",
    "    sequence_dir = os.path.join(base_dir, aug_method, \"sequence\") if aug_method else os.path.join(base_dir, \"sequence\")\n",
    "    label_dir = os.path.join(aug_dir, aug_method, \"label\") if aug_method else os.path.join(origin_dir, \"label\")\n",
    "    os.makedirs(sequence_dir, exist_ok=True)\n",
    "    os.makedirs(label_dir, exist_ok=True)\n",
    "    return sequence_dir, label_dir\n",
    "\n",
    "origin_sequence_dir, origin_label_dir = find_pair_dirs(origin_dir)\n",
    "aug_sequence_dir, aug_label_dir = find_pair_dirs(aug_dir, aug_method)"
   ]
  },
  {
   "cell_type": "code",
   "execution_count": 14,
   "id": "e95398ed",
   "metadata": {},
   "outputs": [],
   "source": [
    "# 加载训练集 ID\n",
    "train_ids = set()\n",
    "if is_trainset_only:\n",
    "    train_txt_path = os.path.join(origin_dir, 'train.txt')\n",
    "    with open(train_txt_path, 'r') as f:\n",
    "        train_ids = set(line.strip() for line in f)\n",
    "\n",
    "# 统计每个 action 的均值和标准差\n",
    "action_stats = {action: [] for action in label2idx}\n",
    "for label_file in os.listdir(origin_label_dir):\n",
    "    if not label_file.endswith('_label.csv'):\n",
    "        continue\n",
    "    seq_id = label_file.replace('_label.csv', '')\n",
    "    if is_trainset_only and seq_id not in train_ids:\n",
    "        continue\n",
    "\n",
    "    seq_path = os.path.join(origin_sequence_dir, f\"{seq_id}.csv\")\n",
    "    label_path = os.path.join(origin_label_dir, label_file)\n",
    "    if not os.path.exists(seq_path):\n",
    "        continue\n",
    "\n",
    "    label_df = pd.read_csv(label_path)\n",
    "    action = label_df.iloc[0]['action']\n",
    "    if action not in action_stats:\n",
    "        continue\n",
    "\n",
    "    df = pd.read_csv(seq_path)\n",
    "    stats = {\n",
    "        'accel_x_mean': df['accel_x'].mean(),\n",
    "        'accel_x_std': df['accel_x'].std(),\n",
    "        'accel_y_mean': df['accel_y'].mean(),\n",
    "        'accel_y_std': df['accel_y'].std(),\n",
    "        'accel_z_mean': df['accel_z'].mean(),\n",
    "        'accel_z_std': df['accel_z'].std(),\n",
    "        'seq_id': seq_id,\n",
    "        'label_path': label_path,\n",
    "        'action': action\n",
    "    }\n",
    "    action_stats[action].append(stats)"
   ]
  },
  {
   "cell_type": "markdown",
   "id": "0483c244",
   "metadata": {},
   "source": [
    "### Gaussian Sampling"
   ]
  },
  {
   "cell_type": "code",
   "execution_count": 15,
   "id": "6e664fda",
   "metadata": {},
   "outputs": [
    {
     "name": "stderr",
     "output_type": "stream",
     "text": [
      "100%|██████████| 16/16 [00:01<00:00,  9.14it/s]"
     ]
    },
    {
     "name": "stdout",
     "output_type": "stream",
     "text": [
      "[完成] 已生成 300 条统计增强数据样本。\n"
     ]
    },
    {
     "name": "stderr",
     "output_type": "stream",
     "text": [
      "\n"
     ]
    }
   ],
   "source": [
    "# 开始生成数据\n",
    "sample_id = 0\n",
    "for action, samples in tqdm(action_stats.items()):\n",
    "    total_needed = target_per_class\n",
    "    num_available = len(samples)\n",
    "    if num_available == 0:\n",
    "        continue\n",
    "\n",
    "    while total_needed > 0:\n",
    "        batch = samples if total_needed >= num_available else random.sample(samples, total_needed)\n",
    "        for stat in batch:\n",
    "            min_len = int(duration_range[0] / frame_interval)\n",
    "            max_len = int(duration_range[1] / frame_interval)\n",
    "            length = random.randint(min_len, max_len)\n",
    "\n",
    "            df = pd.DataFrame({\n",
    "                'accel_x': np.random.normal(stat['accel_x_mean'], stat['accel_x_std'], length),\n",
    "                'accel_y': np.random.normal(stat['accel_y_mean'], stat['accel_y_std'], length),\n",
    "                'accel_z': np.random.normal(stat['accel_z_mean'], stat['accel_z_std'], length),\n",
    "            }).round(9)\n",
    "\n",
    "            file_id = f\"A{sample_id:05d}\"\n",
    "            df.to_csv(os.path.join(aug_sequence_dir, f\"{file_id}.csv\"), index=False)\n",
    "\n",
    "            label_df = pd.read_csv(stat['label_path'])[['gender', 'age', 'dur', 'action']]\n",
    "            label_df.to_csv(os.path.join(aug_label_dir, f\"{file_id}_label.csv\"), index=False)\n",
    "\n",
    "            sample_id += 1\n",
    "            total_needed -= 1\n",
    "\n",
    "print(f\"[完成] 已生成 {sample_id} 条统计增强数据样本。\")"
   ]
  },
  {
   "cell_type": "markdown",
   "id": "8cc57794",
   "metadata": {},
   "source": [
    "# Cosine Simulation"
   ]
  },
  {
   "cell_type": "code",
   "execution_count": 16,
   "id": "367db0ee",
   "metadata": {},
   "outputs": [],
   "source": [
    "aug_method = 'CS'\n",
    "aug_sequence_dir, aug_label_dir = find_pair_dirs(aug_dir, aug_method)"
   ]
  },
  {
   "cell_type": "code",
   "execution_count": 17,
   "id": "5f90139f",
   "metadata": {},
   "outputs": [],
   "source": [
    "# 加载训练集 ID\n",
    "train_ids = set()\n",
    "if is_trainset_only:\n",
    "    train_txt_path = os.path.join(origin_dir, 'train.txt')\n",
    "    with open(train_txt_path, 'r') as f:\n",
    "        train_ids = set(line.strip() for line in f)\n",
    "\n",
    "# 统计每个 action 的均值、标准差、主频率\n",
    "action_stats = {action: [] for action in label2idx}\n",
    "for label_file in os.listdir(origin_label_dir):\n",
    "    if not label_file.endswith('_label.csv'):\n",
    "        continue\n",
    "    seq_id = label_file.replace('_label.csv', '')\n",
    "    if is_trainset_only and seq_id not in train_ids:\n",
    "        continue\n",
    "\n",
    "    seq_path = os.path.join(origin_sequence_dir, f\"{seq_id}.csv\")\n",
    "    label_path = os.path.join(origin_label_dir, label_file)\n",
    "    if not os.path.exists(seq_path):\n",
    "        continue\n",
    "\n",
    "    label_df = pd.read_csv(label_path)\n",
    "    action = label_df.iloc[0]['action']\n",
    "    if action not in action_stats:\n",
    "        continue\n",
    "\n",
    "    df = pd.read_csv(seq_path)\n",
    "\n",
    "    # 提取三轴数据\n",
    "    x = df['accel_x'].values\n",
    "    y = df['accel_y'].values\n",
    "    z = df['accel_z'].values\n",
    "    n = len(x)\n",
    "    t = np.linspace(0, 1, n, endpoint=False)  # 采样时间轴假设 1s 内均匀分布\n",
    "    freqs = np.fft.rfftfreq(n, d=1./n)  # 频率轴（单位: Hz）\n",
    "\n",
    "    # FFT 获取主频率\n",
    "    def get_main_freq(signal):\n",
    "        fft = np.fft.rfft(signal)\n",
    "        fft_mag = np.abs(fft)\n",
    "        fft_mag[0] = 0  # 忽略直流分量\n",
    "        return freqs[np.argmax(fft_mag)]\n",
    "\n",
    "    main_freq_x = get_main_freq(x)\n",
    "    main_freq_y = get_main_freq(y)\n",
    "    main_freq_z = get_main_freq(z)\n",
    "\n",
    "    stats = {\n",
    "        'accel_x_mean': x.mean(),\n",
    "        'accel_x_std': x.std(),\n",
    "        'accel_x_freq': main_freq_x,\n",
    "        'accel_y_mean': y.mean(),\n",
    "        'accel_y_std': y.std(),\n",
    "        'accel_y_freq': main_freq_y,\n",
    "        'accel_z_mean': z.mean(),\n",
    "        'accel_z_std': z.std(),\n",
    "        'accel_z_freq': main_freq_z,\n",
    "        'seq_id': seq_id,\n",
    "        'label_path': label_path,\n",
    "        'action': action\n",
    "    }\n",
    "    action_stats[action].append(stats)"
   ]
  },
  {
   "cell_type": "code",
   "execution_count": 18,
   "id": "1a147f94",
   "metadata": {},
   "outputs": [
    {
     "name": "stderr",
     "output_type": "stream",
     "text": [
      "100%|██████████| 16/16 [00:01<00:00,  9.44it/s]"
     ]
    },
    {
     "name": "stdout",
     "output_type": "stream",
     "text": [
      "[完成] 已生成 300 条 cosine 模拟数据样本。\n"
     ]
    },
    {
     "name": "stderr",
     "output_type": "stream",
     "text": [
      "\n"
     ]
    }
   ],
   "source": [
    "# 开始生成 cosine 模拟数据\n",
    "sample_id = 0\n",
    "for action, samples in tqdm(action_stats.items()):\n",
    "    total_needed = target_per_class\n",
    "    num_available = len(samples)\n",
    "    if num_available == 0:\n",
    "        continue\n",
    "\n",
    "    while total_needed > 0:\n",
    "        batch = samples if total_needed >= num_available else random.sample(samples, total_needed)\n",
    "        for stat in batch:\n",
    "            min_len = int(duration_range[0] / frame_interval)\n",
    "            max_len = int(duration_range[1] / frame_interval)\n",
    "            length = random.randint(min_len, max_len)\n",
    "            t = np.linspace(0, 1, length)  # 1秒内均匀采样（相对时间）\n",
    "\n",
    "            # 每个通道生成带主频率的余弦序列 + 噪声\n",
    "            def cosine_noise(mean, std, freq):\n",
    "                cosine = np.cos(2 * np.pi * freq * t)\n",
    "                noise = np.random.normal(0, std, length)\n",
    "                return mean + std * cosine + noise\n",
    "\n",
    "            accel_x = cosine_noise(stat['accel_x_mean'], stat['accel_x_std'], stat['accel_x_freq'])\n",
    "            accel_y = cosine_noise(stat['accel_y_mean'], stat['accel_y_std'], stat['accel_y_freq'])\n",
    "            accel_z = cosine_noise(stat['accel_z_mean'], stat['accel_z_std'], stat['accel_z_freq'])\n",
    "\n",
    "            df = pd.DataFrame({\n",
    "                'accel_x': np.round(accel_x, 9),\n",
    "                'accel_y': np.round(accel_y, 9),\n",
    "                'accel_z': np.round(accel_z, 9),\n",
    "            })\n",
    "\n",
    "            file_id = f\"C{sample_id:05d}\"\n",
    "            df.to_csv(os.path.join(aug_sequence_dir, f\"{file_id}.csv\"), index=False)\n",
    "\n",
    "            label_df = pd.read_csv(stat['label_path'])[['gender', 'age', 'dur', 'action']]\n",
    "            label_df.to_csv(os.path.join(aug_label_dir, f\"{file_id}_label.csv\"), index=False)\n",
    "\n",
    "            sample_id += 1\n",
    "            total_needed -= 1\n",
    "\n",
    "print(f\"[完成] 已生成 {sample_id} 条 cosine 模拟数据样本。\")"
   ]
  }
 ],
 "metadata": {
  "kernelspec": {
   "display_name": "llm",
   "language": "python",
   "name": "python3"
  },
  "language_info": {
   "codemirror_mode": {
    "name": "ipython",
    "version": 3
   },
   "file_extension": ".py",
   "mimetype": "text/x-python",
   "name": "python",
   "nbconvert_exporter": "python",
   "pygments_lexer": "ipython3",
   "version": "3.10.16"
  }
 },
 "nbformat": 4,
 "nbformat_minor": 5
}
