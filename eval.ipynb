{
 "cells": [
  {
   "cell_type": "markdown",
   "id": "f3fd8b99",
   "metadata": {},
   "source": [
    "# DTW"
   ]
  },
  {
   "cell_type": "code",
   "execution_count": null,
   "id": "f21115f5",
   "metadata": {},
   "outputs": [],
   "source": [
    "import os\n",
    "import pandas as pd\n",
    "import numpy as np\n",
    "from dtw import dtw\n",
    "from tqdm import tqdm\n",
    "\n",
    "def compute_dtw_distance(seq1: np.ndarray, seq2: np.ndarray):\n",
    "    # 使用欧氏距离计算3轴加速度的DTW\n",
    "    return dtw(seq1, seq2, keep_internals=False).distance\n",
    "\n",
    "def print_dtw(original_dir, augmented_dir):\n",
    "    original_data = {}\n",
    "    for fname in os.listdir(original_dir):\n",
    "        if fname.endswith('.csv'):\n",
    "            data = pd.read_csv(os.path.join(original_dir, fname))[['accel_x', 'accel_y', 'accel_z']].to_numpy()\n",
    "            original_data[fname] = data\n",
    "\n",
    "    dtw_distances = []\n",
    "    for fname in tqdm(os.listdir(augmented_dir)):\n",
    "        if not fname.endswith('.csv'):\n",
    "            continue\n",
    "\n",
    "        aug_data = pd.read_csv(os.path.join(augmented_dir, fname))[['accel_x', 'accel_y', 'accel_z']].to_numpy()\n",
    "\n",
    "        rand_key = np.random.choice(list(original_data.keys()))\n",
    "        orig_data = original_data[rand_key]\n",
    "\n",
    "        dist = compute_dtw_distance(aug_data, orig_data)\n",
    "        dtw_distances.append(dist)\n",
    "\n",
    "    print(f\"平均DTW距离: {np.mean(dtw_distances):.9f}\")\n",
    "    print(f\"中位数DTW距离: {np.median(dtw_distances):.9f}\")"
   ]
  },
  {
   "cell_type": "code",
   "execution_count": null,
   "id": "e0ec5d19",
   "metadata": {},
   "outputs": [
    {
     "name": "stderr",
     "output_type": "stream",
     "text": [
      "100%|██████████| 300/300 [00:06<00:00, 44.45it/s] "
     ]
    },
    {
     "name": "stdout",
     "output_type": "stream",
     "text": [
      "平均DTW距离: 1508.493311894\n",
      "中位数DTW距离: 85.392676477\n"
     ]
    },
    {
     "name": "stderr",
     "output_type": "stream",
     "text": [
      "\n"
     ]
    }
   ],
   "source": [
    "# Path\n",
    "original_dir = './data_origin/sequence'\n",
    "augmented_dir = './data_aug/ChatGPT-o4-instructed_v2/sequence'\n",
    "\n",
    "print_dtw(original_dir, augmented_dir)"
   ]
  },
  {
   "cell_type": "code",
   "execution_count": null,
   "id": "3e79f83e",
   "metadata": {},
   "outputs": [
    {
     "name": "stderr",
     "output_type": "stream",
     "text": [
      "100%|██████████| 300/300 [00:07<00:00, 39.07it/s]"
     ]
    },
    {
     "name": "stdout",
     "output_type": "stream",
     "text": [
      "平均DTW距离: 1604.201465709\n",
      "中位数DTW距离: 78.188436558\n"
     ]
    },
    {
     "name": "stderr",
     "output_type": "stream",
     "text": [
      "\n"
     ]
    }
   ],
   "source": [
    "# Path\n",
    "original_dir = './data_origin/sequence'\n",
    "augmented_dir = './data_aug/GN/sequence'\n",
    "\n",
    "print_dtw(original_dir, augmented_dir)"
   ]
  },
  {
   "cell_type": "code",
   "execution_count": null,
   "id": "a884cda1",
   "metadata": {},
   "outputs": [
    {
     "name": "stderr",
     "output_type": "stream",
     "text": [
      "100%|██████████| 300/300 [00:06<00:00, 43.05it/s]"
     ]
    },
    {
     "name": "stdout",
     "output_type": "stream",
     "text": [
      "平均DTW距离: 1158.065324426\n",
      "中位数DTW距离: 81.104038711\n"
     ]
    },
    {
     "name": "stderr",
     "output_type": "stream",
     "text": [
      "\n"
     ]
    }
   ],
   "source": [
    "# Path\n",
    "original_dir = './data_origin/sequence'\n",
    "augmented_dir = './data_aug/GS/sequence'\n",
    "\n",
    "print_dtw(original_dir, augmented_dir)"
   ]
  },
  {
   "cell_type": "code",
   "execution_count": null,
   "id": "29a3ba90",
   "metadata": {},
   "outputs": [
    {
     "name": "stderr",
     "output_type": "stream",
     "text": [
      "100%|██████████| 300/300 [00:05<00:00, 56.48it/s] "
     ]
    },
    {
     "name": "stdout",
     "output_type": "stream",
     "text": [
      "平均DTW距离: 902.477916448\n",
      "中位数DTW距离: 88.900963819\n"
     ]
    },
    {
     "name": "stderr",
     "output_type": "stream",
     "text": [
      "\n"
     ]
    }
   ],
   "source": [
    "# Path\n",
    "original_dir = './data_origin/sequence'\n",
    "augmented_dir = './data_aug/CS/sequence'\n",
    "\n",
    "print_dtw(original_dir, augmented_dir)"
   ]
  },
  {
   "cell_type": "markdown",
   "id": "71994eb3",
   "metadata": {},
   "source": [
    "# F1-score"
   ]
  },
  {
   "cell_type": "code",
   "execution_count": 2,
   "id": "f16f133a",
   "metadata": {},
   "outputs": [],
   "source": [
    "import torch\n",
    "from torch.utils.data import DataLoader\n",
    "from torch.nn.utils.rnn import pad_sequence\n",
    "\n",
    "from models.lstm import LSTMClassifier\n",
    "from tqdm import tqdm\n",
    "\n",
    "def collate_fn(batch, label2idx):\n",
    "    sequences = [item[0] for item in batch]\n",
    "    actions = [item[1] for item in batch]\n",
    "    lengths = torch.tensor([len(seq) for seq in sequences], dtype=torch.long)\n",
    "    padded_sequences = pad_sequence(sequences, batch_first=True)\n",
    "    labels = torch.tensor([label2idx[action] for action in actions], dtype=torch.long)\n",
    "    return padded_sequences, lengths, labels\n",
    "\n",
    "def get_predictions(model_path, dataset, label2idx, batch_size=32, device='cuda'):\n",
    "    num_classes = len(label2idx)\n",
    "    model = LSTMClassifier(input_dim=3, hidden_dim=64, num_layers=2, num_classes=16, dropout=0.3)\n",
    "    model.load_state_dict(torch.load(model_path, map_location=device))\n",
    "    model.to(device)\n",
    "    model.eval()\n",
    "\n",
    "    loader = DataLoader(\n",
    "        dataset,\n",
    "        batch_size=batch_size,\n",
    "        shuffle=False,\n",
    "        collate_fn=lambda batch: collate_fn(batch, label2idx)\n",
    "    )\n",
    "\n",
    "    y_true, y_pred = [], []\n",
    "\n",
    "    with torch.no_grad():\n",
    "        for x, lengths, labels in tqdm(loader, desc=\"Predicting\"):\n",
    "            x = x.to(device)\n",
    "            # lengths = lengths.to(device)\n",
    "            labels = labels.to(device)\n",
    "\n",
    "            logits = model(x, lengths.cpu())\n",
    "            preds = torch.argmax(logits, dim=1)\n",
    "\n",
    "            y_true.extend(labels.cpu().numpy().tolist())\n",
    "            y_pred.extend(preds.cpu().numpy().tolist())\n",
    "\n",
    "    return y_true, y_pred\n",
    "\n",
    "\n",
    "from sklearn.metrics import accuracy_score, f1_score, classification_report\n",
    "\n",
    "def eval_F1score(y_true, y_pred, label2idx):\n",
    "    acc = accuracy_score(y_true, y_pred)\n",
    "    f1_macro = f1_score(y_true, y_pred, average='macro')\n",
    "    f1_weighted = f1_score(y_true, y_pred, average='weighted')\n",
    "\n",
    "    print(f\"Accuracy: {acc:.9f}\")\n",
    "    print(f\"Macro F1-score: {f1_macro:.9f}\")\n",
    "    print(f\"Weighted F1-score: {f1_weighted:.9f}\")\n",
    "    \n",
    "    print(\"\\nClassification Report:\")\n",
    "    print(classification_report(y_true, y_pred, target_names=list(label2idx.keys())))\n",
    "    \n",
    "    return {\n",
    "        'accuracy': acc,\n",
    "        'macro_f1': f1_macro,\n",
    "        'weighted_f1': f1_weighted\n",
    "    }"
   ]
  },
  {
   "cell_type": "code",
   "execution_count": 3,
   "id": "78dc8763",
   "metadata": {},
   "outputs": [],
   "source": [
    "from utils.dataset import BabyMotionDataset\n",
    "\n",
    "origin_dir = \"./data_origin\"\n",
    "\n",
    "label2idx = {\n",
    "    'crawl': 0, 'walk': 1,\n",
    "    'sit-floor': 2, 'sit-high-chair': 3, 'sit-low-chair': 4, 'stand': 5, \n",
    "    'hold-horizontal': 6, 'hold-vertical': 7, 'piggyback': 8, \n",
    "    'baby-food': 9, 'bottle': 10, 'breast': 11, \n",
    "    'face-down': 12, 'face-side': 13, 'face-up':14, 'roll-over': 15\n",
    "}\n",
    "\n",
    "val_dataset = BabyMotionDataset(\n",
    "    origin_dir=origin_dir,\n",
    "    aug_dirs=None,\n",
    "    max_len=100,\n",
    "    min_len=10,\n",
    "    is_train=False\n",
    ")"
   ]
  },
  {
   "cell_type": "markdown",
   "id": "037e7f1a",
   "metadata": {},
   "source": [
    "## origin"
   ]
  },
  {
   "cell_type": "code",
   "execution_count": 17,
   "id": "d3795f2a",
   "metadata": {},
   "outputs": [
    {
     "name": "stderr",
     "output_type": "stream",
     "text": [
      "Predicting:   0%|          | 0/4 [00:00<?, ?it/s]"
     ]
    },
    {
     "name": "stderr",
     "output_type": "stream",
     "text": [
      "Predicting: 100%|██████████| 4/4 [00:00<00:00, 10.17it/s]"
     ]
    },
    {
     "name": "stdout",
     "output_type": "stream",
     "text": [
      "Accuracy: 0.786324786\n",
      "Macro F1-score: 0.688659695\n",
      "Weighted F1-score: 0.782997196\n",
      "\n",
      "Classification Report:\n",
      "                 precision    recall  f1-score   support\n",
      "\n",
      "          crawl       1.00      0.83      0.91         6\n",
      "           walk       0.75      0.75      0.75         8\n",
      "      sit-floor       0.83      0.91      0.87        11\n",
      " sit-high-chair       1.00      0.33      0.50         3\n",
      "  sit-low-chair       0.00      0.00      0.00         1\n",
      "          stand       1.00      0.33      0.50         3\n",
      "hold-horizontal       0.81      0.93      0.87        14\n",
      "  hold-vertical       0.62      0.71      0.67        14\n",
      "      piggyback       0.78      0.78      0.78         9\n",
      "      baby-food       0.78      0.86      0.82        21\n",
      "         bottle       1.00      0.71      0.83         7\n",
      "         breast       0.00      0.00      0.00         1\n",
      "      face-down       1.00      1.00      1.00         3\n",
      "      face-side       0.57      1.00      0.73         4\n",
      "        face-up       1.00      1.00      1.00         3\n",
      "      roll-over       1.00      0.67      0.80         9\n",
      "\n",
      "       accuracy                           0.79       117\n",
      "      macro avg       0.76      0.68      0.69       117\n",
      "   weighted avg       0.81      0.79      0.78       117\n",
      "\n"
     ]
    },
    {
     "name": "stderr",
     "output_type": "stream",
     "text": [
      "\n",
      "/fast/workspace/robinson/miniconda3/envs/llm/lib/python3.10/site-packages/sklearn/metrics/_classification.py:1565: UndefinedMetricWarning: Precision is ill-defined and being set to 0.0 in labels with no predicted samples. Use `zero_division` parameter to control this behavior.\n",
      "  _warn_prf(average, modifier, f\"{metric.capitalize()} is\", len(result))\n",
      "/fast/workspace/robinson/miniconda3/envs/llm/lib/python3.10/site-packages/sklearn/metrics/_classification.py:1565: UndefinedMetricWarning: Precision is ill-defined and being set to 0.0 in labels with no predicted samples. Use `zero_division` parameter to control this behavior.\n",
      "  _warn_prf(average, modifier, f\"{metric.capitalize()} is\", len(result))\n",
      "/fast/workspace/robinson/miniconda3/envs/llm/lib/python3.10/site-packages/sklearn/metrics/_classification.py:1565: UndefinedMetricWarning: Precision is ill-defined and being set to 0.0 in labels with no predicted samples. Use `zero_division` parameter to control this behavior.\n",
      "  _warn_prf(average, modifier, f\"{metric.capitalize()} is\", len(result))\n"
     ]
    },
    {
     "data": {
      "text/plain": [
       "{'accuracy': 0.7863247863247863,\n",
       " 'macro_f1': 0.6886596947738253,\n",
       " 'weighted_f1': 0.7829971960406743}"
      ]
     },
     "execution_count": 17,
     "metadata": {},
     "output_type": "execute_result"
    }
   ],
   "source": [
    "model_path = '/fast/workspace/robinson/CodeSource/babycare/logs/lstm/origin/20250625_004247/checkpoints/best_model_epoch211.pt'\n",
    "y_true, y_pred = get_predictions(model_path, val_dataset, label2idx)\n",
    "eval_F1score(y_true, y_pred, label2idx)"
   ]
  },
  {
   "cell_type": "markdown",
   "id": "0c4c6075",
   "metadata": {},
   "source": [
    "## GN"
   ]
  },
  {
   "cell_type": "code",
   "execution_count": 15,
   "id": "7aa8c6df",
   "metadata": {},
   "outputs": [
    {
     "name": "stderr",
     "output_type": "stream",
     "text": [
      "Predicting: 100%|██████████| 4/4 [00:00<00:00,  9.92it/s]"
     ]
    },
    {
     "name": "stdout",
     "output_type": "stream",
     "text": [
      "Accuracy: 0.794871795\n",
      "Macro F1-score: 0.690995667\n",
      "Weighted F1-score: 0.787260756\n",
      "\n",
      "Classification Report:\n",
      "                 precision    recall  f1-score   support\n",
      "\n",
      "          crawl       1.00      0.83      0.91         6\n",
      "           walk       0.75      0.38      0.50         8\n",
      "      sit-floor       0.69      0.82      0.75        11\n",
      " sit-high-chair       0.50      1.00      0.67         3\n",
      "  sit-low-chair       0.00      0.00      0.00         1\n",
      "          stand       1.00      0.33      0.50         3\n",
      "hold-horizontal       1.00      0.86      0.92        14\n",
      "  hold-vertical       0.69      0.79      0.73        14\n",
      "      piggyback       0.75      0.67      0.71         9\n",
      "      baby-food       0.86      0.86      0.86        21\n",
      "         bottle       0.70      1.00      0.82         7\n",
      "         breast       0.00      0.00      0.00         1\n",
      "      face-down       1.00      1.00      1.00         3\n",
      "      face-side       0.80      1.00      0.89         4\n",
      "        face-up       0.75      1.00      0.86         3\n",
      "      roll-over       1.00      0.89      0.94         9\n",
      "\n",
      "       accuracy                           0.79       117\n",
      "      macro avg       0.72      0.71      0.69       117\n",
      "   weighted avg       0.81      0.79      0.79       117\n",
      "\n"
     ]
    },
    {
     "name": "stderr",
     "output_type": "stream",
     "text": [
      "\n",
      "/fast/workspace/robinson/miniconda3/envs/llm/lib/python3.10/site-packages/sklearn/metrics/_classification.py:1565: UndefinedMetricWarning: Precision is ill-defined and being set to 0.0 in labels with no predicted samples. Use `zero_division` parameter to control this behavior.\n",
      "  _warn_prf(average, modifier, f\"{metric.capitalize()} is\", len(result))\n",
      "/fast/workspace/robinson/miniconda3/envs/llm/lib/python3.10/site-packages/sklearn/metrics/_classification.py:1565: UndefinedMetricWarning: Precision is ill-defined and being set to 0.0 in labels with no predicted samples. Use `zero_division` parameter to control this behavior.\n",
      "  _warn_prf(average, modifier, f\"{metric.capitalize()} is\", len(result))\n",
      "/fast/workspace/robinson/miniconda3/envs/llm/lib/python3.10/site-packages/sklearn/metrics/_classification.py:1565: UndefinedMetricWarning: Precision is ill-defined and being set to 0.0 in labels with no predicted samples. Use `zero_division` parameter to control this behavior.\n",
      "  _warn_prf(average, modifier, f\"{metric.capitalize()} is\", len(result))\n"
     ]
    },
    {
     "data": {
      "text/plain": [
       "{'accuracy': 0.7948717948717948,\n",
       " 'macro_f1': 0.6909956669147845,\n",
       " 'weighted_f1': 0.7872607561144516}"
      ]
     },
     "execution_count": 15,
     "metadata": {},
     "output_type": "execute_result"
    }
   ],
   "source": [
    "model_path = '/fast/workspace/robinson/CodeSource/babycare/logs/lstm/GN/20250618_013831/checkpoints/best_model_epoch453.pt'\n",
    "y_true, y_pred = get_predictions(model_path, val_dataset, label2idx)\n",
    "eval_F1score(y_true, y_pred, label2idx)"
   ]
  },
  {
   "cell_type": "markdown",
   "id": "340e44c7",
   "metadata": {},
   "source": [
    "## GS"
   ]
  },
  {
   "cell_type": "code",
   "execution_count": 13,
   "id": "35d166d8",
   "metadata": {},
   "outputs": [
    {
     "name": "stderr",
     "output_type": "stream",
     "text": [
      "Predicting: 100%|██████████| 4/4 [00:00<00:00,  9.97it/s]"
     ]
    },
    {
     "name": "stdout",
     "output_type": "stream",
     "text": [
      "Accuracy: 0.760683761\n",
      "Macro F1-score: 0.671004020\n",
      "Weighted F1-score: 0.749190254\n",
      "\n",
      "Classification Report:\n",
      "                 precision    recall  f1-score   support\n",
      "\n",
      "          crawl       1.00      0.83      0.91         6\n",
      "           walk       0.67      0.25      0.36         8\n",
      "      sit-floor       0.54      0.64      0.58        11\n",
      " sit-high-chair       0.75      1.00      0.86         3\n",
      "  sit-low-chair       0.00      0.00      0.00         1\n",
      "          stand       0.25      0.33      0.29         3\n",
      "hold-horizontal       1.00      0.93      0.96        14\n",
      "  hold-vertical       0.60      0.43      0.50        14\n",
      "      piggyback       0.69      1.00      0.82         9\n",
      "      baby-food       0.85      0.81      0.83        21\n",
      "         bottle       0.88      1.00      0.93         7\n",
      "         breast       0.00      0.00      0.00         1\n",
      "      face-down       1.00      1.00      1.00         3\n",
      "      face-side       0.80      1.00      0.89         4\n",
      "        face-up       0.75      1.00      0.86         3\n",
      "      roll-over       0.90      1.00      0.95         9\n",
      "\n",
      "       accuracy                           0.76       117\n",
      "      macro avg       0.67      0.70      0.67       117\n",
      "   weighted avg       0.76      0.76      0.75       117\n",
      "\n"
     ]
    },
    {
     "name": "stderr",
     "output_type": "stream",
     "text": [
      "\n",
      "/fast/workspace/robinson/miniconda3/envs/llm/lib/python3.10/site-packages/sklearn/metrics/_classification.py:1565: UndefinedMetricWarning: Precision is ill-defined and being set to 0.0 in labels with no predicted samples. Use `zero_division` parameter to control this behavior.\n",
      "  _warn_prf(average, modifier, f\"{metric.capitalize()} is\", len(result))\n",
      "/fast/workspace/robinson/miniconda3/envs/llm/lib/python3.10/site-packages/sklearn/metrics/_classification.py:1565: UndefinedMetricWarning: Precision is ill-defined and being set to 0.0 in labels with no predicted samples. Use `zero_division` parameter to control this behavior.\n",
      "  _warn_prf(average, modifier, f\"{metric.capitalize()} is\", len(result))\n",
      "/fast/workspace/robinson/miniconda3/envs/llm/lib/python3.10/site-packages/sklearn/metrics/_classification.py:1565: UndefinedMetricWarning: Precision is ill-defined and being set to 0.0 in labels with no predicted samples. Use `zero_division` parameter to control this behavior.\n",
      "  _warn_prf(average, modifier, f\"{metric.capitalize()} is\", len(result))\n"
     ]
    },
    {
     "data": {
      "text/plain": [
       "{'accuracy': 0.7606837606837606,\n",
       " 'macro_f1': 0.6710040201976979,\n",
       " 'weighted_f1': 0.7491902538472214}"
      ]
     },
     "execution_count": 13,
     "metadata": {},
     "output_type": "execute_result"
    }
   ],
   "source": [
    "model_path = '/fast/workspace/robinson/CodeSource/babycare/logs/lstm/GS/20250618_054720/checkpoints/best_model_epoch486.pt'\n",
    "y_true, y_pred = get_predictions(model_path, val_dataset, label2idx)\n",
    "eval_F1score(y_true, y_pred, label2idx)"
   ]
  },
  {
   "cell_type": "markdown",
   "id": "d3c05f68",
   "metadata": {},
   "source": [
    "## CS"
   ]
  },
  {
   "cell_type": "code",
   "execution_count": 14,
   "id": "399598dc",
   "metadata": {},
   "outputs": [
    {
     "name": "stderr",
     "output_type": "stream",
     "text": [
      "Predicting: 100%|██████████| 4/4 [00:00<00:00, 10.13it/s]"
     ]
    },
    {
     "name": "stdout",
     "output_type": "stream",
     "text": [
      "Accuracy: 0.777777778\n",
      "Macro F1-score: 0.674743880\n",
      "Weighted F1-score: 0.767736005\n",
      "\n",
      "Classification Report:\n",
      "                 precision    recall  f1-score   support\n",
      "\n",
      "          crawl       1.00      0.83      0.91         6\n",
      "           walk       0.80      0.50      0.62         8\n",
      "      sit-floor       0.80      0.73      0.76        11\n",
      " sit-high-chair       0.50      1.00      0.67         3\n",
      "  sit-low-chair       0.00      0.00      0.00         1\n",
      "          stand       0.50      0.33      0.40         3\n",
      "hold-horizontal       0.81      0.93      0.87        14\n",
      "  hold-vertical       0.64      0.50      0.56        14\n",
      "      piggyback       0.69      1.00      0.82         9\n",
      "      baby-food       0.86      0.90      0.88        21\n",
      "         bottle       0.86      0.86      0.86         7\n",
      "         breast       0.00      0.00      0.00         1\n",
      "      face-down       1.00      1.00      1.00         3\n",
      "      face-side       0.67      1.00      0.80         4\n",
      "        face-up       0.75      1.00      0.86         3\n",
      "      roll-over       1.00      0.67      0.80         9\n",
      "\n",
      "       accuracy                           0.78       117\n",
      "      macro avg       0.68      0.70      0.67       117\n",
      "   weighted avg       0.78      0.78      0.77       117\n",
      "\n"
     ]
    },
    {
     "name": "stderr",
     "output_type": "stream",
     "text": [
      "\n",
      "/fast/workspace/robinson/miniconda3/envs/llm/lib/python3.10/site-packages/sklearn/metrics/_classification.py:1565: UndefinedMetricWarning: Precision is ill-defined and being set to 0.0 in labels with no predicted samples. Use `zero_division` parameter to control this behavior.\n",
      "  _warn_prf(average, modifier, f\"{metric.capitalize()} is\", len(result))\n",
      "/fast/workspace/robinson/miniconda3/envs/llm/lib/python3.10/site-packages/sklearn/metrics/_classification.py:1565: UndefinedMetricWarning: Precision is ill-defined and being set to 0.0 in labels with no predicted samples. Use `zero_division` parameter to control this behavior.\n",
      "  _warn_prf(average, modifier, f\"{metric.capitalize()} is\", len(result))\n",
      "/fast/workspace/robinson/miniconda3/envs/llm/lib/python3.10/site-packages/sklearn/metrics/_classification.py:1565: UndefinedMetricWarning: Precision is ill-defined and being set to 0.0 in labels with no predicted samples. Use `zero_division` parameter to control this behavior.\n",
      "  _warn_prf(average, modifier, f\"{metric.capitalize()} is\", len(result))\n"
     ]
    },
    {
     "data": {
      "text/plain": [
       "{'accuracy': 0.7777777777777778,\n",
       " 'macro_f1': 0.674743880150857,\n",
       " 'weighted_f1': 0.7677360048021944}"
      ]
     },
     "execution_count": 14,
     "metadata": {},
     "output_type": "execute_result"
    }
   ],
   "source": [
    "model_path = '/fast/workspace/robinson/CodeSource/babycare/logs/lstm/CS/20250618_094700/checkpoints/best_model_epoch3191.pt'\n",
    "y_true, y_pred = get_predictions(model_path, val_dataset, label2idx)\n",
    "eval_F1score(y_true, y_pred, label2idx)"
   ]
  },
  {
   "cell_type": "markdown",
   "id": "6fee6a31",
   "metadata": {},
   "source": [
    "## ChatGPT-o4"
   ]
  },
  {
   "cell_type": "code",
   "execution_count": 6,
   "id": "c1d16e26",
   "metadata": {},
   "outputs": [
    {
     "name": "stderr",
     "output_type": "stream",
     "text": [
      "Predicting: 100%|██████████| 4/4 [00:00<00:00, 10.02it/s]"
     ]
    },
    {
     "name": "stdout",
     "output_type": "stream",
     "text": [
      "Accuracy: 0.846153846\n",
      "Macro F1-score: 0.786136960\n",
      "Weighted F1-score: 0.839650837\n",
      "\n",
      "Classification Report:\n",
      "                 precision    recall  f1-score   support\n",
      "\n",
      "          crawl       1.00      0.83      0.91         6\n",
      "           walk       1.00      0.75      0.86         8\n",
      "      sit-floor       0.85      1.00      0.92        11\n",
      " sit-high-chair       1.00      1.00      1.00         3\n",
      "  sit-low-chair       0.33      1.00      0.50         1\n",
      "          stand       0.50      0.33      0.40         3\n",
      "hold-horizontal       0.81      0.93      0.87        14\n",
      "  hold-vertical       0.80      0.57      0.67        14\n",
      "      piggyback       0.90      1.00      0.95         9\n",
      "      baby-food       0.81      0.81      0.81        21\n",
      "         bottle       0.78      1.00      0.88         7\n",
      "         breast       0.00      0.00      0.00         1\n",
      "      face-down       1.00      1.00      1.00         3\n",
      "      face-side       0.80      1.00      0.89         4\n",
      "        face-up       1.00      1.00      1.00         3\n",
      "      roll-over       1.00      0.89      0.94         9\n",
      "\n",
      "       accuracy                           0.85       117\n",
      "      macro avg       0.79      0.82      0.79       117\n",
      "   weighted avg       0.85      0.85      0.84       117\n",
      "\n"
     ]
    },
    {
     "name": "stderr",
     "output_type": "stream",
     "text": [
      "\n",
      "/fast/workspace/robinson/miniconda3/envs/llm/lib/python3.10/site-packages/sklearn/metrics/_classification.py:1565: UndefinedMetricWarning: Precision is ill-defined and being set to 0.0 in labels with no predicted samples. Use `zero_division` parameter to control this behavior.\n",
      "  _warn_prf(average, modifier, f\"{metric.capitalize()} is\", len(result))\n",
      "/fast/workspace/robinson/miniconda3/envs/llm/lib/python3.10/site-packages/sklearn/metrics/_classification.py:1565: UndefinedMetricWarning: Precision is ill-defined and being set to 0.0 in labels with no predicted samples. Use `zero_division` parameter to control this behavior.\n",
      "  _warn_prf(average, modifier, f\"{metric.capitalize()} is\", len(result))\n",
      "/fast/workspace/robinson/miniconda3/envs/llm/lib/python3.10/site-packages/sklearn/metrics/_classification.py:1565: UndefinedMetricWarning: Precision is ill-defined and being set to 0.0 in labels with no predicted samples. Use `zero_division` parameter to control this behavior.\n",
      "  _warn_prf(average, modifier, f\"{metric.capitalize()} is\", len(result))\n"
     ]
    },
    {
     "data": {
      "text/plain": [
       "{'accuracy': 0.8461538461538461,\n",
       " 'macro_f1': 0.7861369597679582,\n",
       " 'weighted_f1': 0.8396508366838604}"
      ]
     },
     "execution_count": 6,
     "metadata": {},
     "output_type": "execute_result"
    }
   ],
   "source": [
    "model_path = '/fast/workspace/robinson/CodeSource/babycare/logs/lstm/ChatGPT-o4-instructed/20250627_090546/checkpoints/best_model_epoch418.pt'\n",
    "y_true, y_pred = get_predictions(model_path, val_dataset, label2idx)\n",
    "eval_F1score(y_true, y_pred, label2idx)"
   ]
  }
 ],
 "metadata": {
  "kernelspec": {
   "display_name": "llm",
   "language": "python",
   "name": "python3"
  },
  "language_info": {
   "codemirror_mode": {
    "name": "ipython",
    "version": 3
   },
   "file_extension": ".py",
   "mimetype": "text/x-python",
   "name": "python",
   "nbconvert_exporter": "python",
   "pygments_lexer": "ipython3",
   "version": "3.10.16"
  }
 },
 "nbformat": 4,
 "nbformat_minor": 5
}
